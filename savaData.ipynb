{
 "cells": [
  {
   "cell_type": "code",
   "execution_count": 1,
   "metadata": {},
   "outputs": [],
   "source": [
    "import yfinance as yf\n",
    "import pandas as pd\n",
    "import numpy as np"
   ]
  },
  {
   "cell_type": "code",
   "execution_count": 41,
   "metadata": {},
   "outputs": [],
   "source": [
    "df = pd.read_excel(\"data/tickerlistall.xlsx\")\n",
    "tlist = df.loc[(df.Piyasa == \"Yıldız Pazar\") | (df.Piyasa == \"Ana Pazar\")].Symbols.values\n",
    "tlist = np.append(tlist, \"XU100\")\n",
    "tlist = np.append(tlist, \"XU030\")"
   ]
  },
  {
   "cell_type": "code",
   "execution_count": 42,
   "metadata": {},
   "outputs": [],
   "source": [
    "def name_fix(stk): # Arrange this name function for yourself, this is for BIST only\n",
    "    if stk.startswith(\".\"):\n",
    "        stk = stk.replace(\".\",\"\")\n",
    "        stk = stk + \".IS\"\n",
    "    else:\n",
    "        stk = stk + \".IS\"\n",
    "    \n",
    "    return stk"
   ]
  },
  {
   "cell_type": "code",
   "execution_count": null,
   "metadata": {},
   "outputs": [],
   "source": [
    "alldatas = []\n",
    "for stk in tlist:\n",
    "    print(stk)\n",
    "    data = yf.download(name_fix(stk), start = \"2016-01-01\", interval = \"1d\")\n",
    "    data[\"symbol\"] = stk\n",
    "    alldatas.append(data)"
   ]
  },
  {
   "cell_type": "code",
   "execution_count": null,
   "metadata": {},
   "outputs": [],
   "source": [
    "df = pd.concat(alldatas)\n",
    "df2 = yf.download(\"USDTRY=X\", start = \"2016-01-01\", interval = \"1d\")\n",
    "df2[\"symbol\"] = \"USDTRY\"\n",
    "df = pd.concat([df, df2])\n",
    "df.columns = ['open', 'high', 'low', 'close', 'adj_close', 'volume', 'symbol']\n",
    "df.index.name = \"date\"\n",
    "df.to_csv(\"data/historicaldataAll.csv\")"
   ]
  }
 ],
 "metadata": {
  "kernelspec": {
   "display_name": "mypy",
   "language": "python",
   "name": "python3"
  },
  "language_info": {
   "codemirror_mode": {
    "name": "ipython",
    "version": 3
   },
   "file_extension": ".py",
   "mimetype": "text/x-python",
   "name": "python",
   "nbconvert_exporter": "python",
   "pygments_lexer": "ipython3",
   "version": "3.11.3"
  },
  "orig_nbformat": 4
 },
 "nbformat": 4,
 "nbformat_minor": 2
}
